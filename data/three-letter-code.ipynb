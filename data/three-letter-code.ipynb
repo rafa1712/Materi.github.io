{
 "cells": [
  {
   "cell_type": "markdown",
   "metadata": {},
   "source": [
    "## A script to add the three ISO letter code"
   ]
  },
  {
   "cell_type": "code",
   "execution_count": 33,
   "metadata": {},
   "outputs": [],
   "source": [
    "import pandas as pd"
   ]
  },
  {
   "cell_type": "code",
   "execution_count": null,
   "metadata": {},
   "outputs": [],
   "source": [
    "for year in range(2016,2020):\n",
    "    clean=pd.read_csv('data_clean/scoretable-%s-clean.csv' % year)\n",
    "    codes=pd.read_csv('iso-alpha-3.csv')\n",
    "    coded=pd.merge(codes,clean,on='country',how='right')\n",
    "    print(coded[coded.code.isnull()])\n",
    "    coded.to_csv('data_clean/scoretable-%s-clean-c.csv' % year,index=False)"
   ]
  },
  {
   "cell_type": "code",
   "execution_count": 35,
   "metadata": {},
   "outputs": [
    {
     "name": "stdout",
     "output_type": "stream",
     "text": [
      "Empty DataFrame\n",
      "Columns: [code, country, rank, last, first, sex, p1, p2, p3, p4, p5, total, award]\n",
      "Index: []\n"
     ]
    }
   ],
   "source": [
    "clean=pd.read_csv('reports/score_awards_2019.csv')\n",
    "codes=pd.read_csv('iso-alpha-3.csv')\n",
    "coded=pd.merge(codes,clean,on='country',how='right')\n",
    "print(coded[coded.code.isnull()])\n",
    "coded.to_csv('reports/score_awards_2019-_c.csv',index=False)"
   ]
  },
  {
   "cell_type": "code",
   "execution_count": null,
   "metadata": {},
   "outputs": [],
   "source": []
  }
 ],
 "metadata": {
  "kernelspec": {
   "display_name": "Python 3",
   "language": "python",
   "name": "python3"
  },
  "language_info": {
   "codemirror_mode": {
    "name": "ipython",
    "version": 3
   },
   "file_extension": ".py",
   "mimetype": "text/x-python",
   "name": "python",
   "nbconvert_exporter": "python",
   "pygments_lexer": "ipython3",
   "version": "3.6.4"
  }
 },
 "nbformat": 4,
 "nbformat_minor": 2
}
